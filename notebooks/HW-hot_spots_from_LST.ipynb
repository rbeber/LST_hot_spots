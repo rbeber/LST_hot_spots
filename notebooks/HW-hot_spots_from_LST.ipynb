{
 "cells": [
  {
   "cell_type": "code",
   "execution_count": 1,
   "id": "35699195",
   "metadata": {
    "tags": []
   },
   "outputs": [],
   "source": [
    "#Initilize GEE\n",
    "import os\n",
    "work_dir = os.path.expanduser('../data')\n",
    "\n",
    "\n",
    "import ee\n",
    "#geemap is just for ViZ\n",
    "import geemap\n",
    "import numpy\n",
    "\n",
    "geemap.ee_initialize()"
   ]
  },
  {
   "cell_type": "code",
   "execution_count": 2,
   "id": "e89126ea",
   "metadata": {
    "tags": []
   },
   "outputs": [
    {
     "data": {
      "text/html": [
       "\n",
       "            <style>\n",
       "                .geemap-dark {\n",
       "                    --jp-widgets-color: white;\n",
       "                    --jp-widgets-label-color: white;\n",
       "                    --jp-ui-font-color1: white;\n",
       "                    --jp-layout-color2: #454545;\n",
       "                    background-color: #383838;\n",
       "                }\n",
       "\n",
       "                .geemap-dark .jupyter-button {\n",
       "                    --jp-layout-color3: #383838;\n",
       "                }\n",
       "\n",
       "                .geemap-colab {\n",
       "                    background-color: var(--colab-primary-surface-color, white);\n",
       "                }\n",
       "\n",
       "                .geemap-colab .jupyter-button {\n",
       "                    --jp-layout-color3: var(--colab-primary-surface-color, white);\n",
       "                }\n",
       "            </style>\n",
       "            "
      ],
      "text/plain": [
       "<IPython.core.display.HTML object>"
      ]
     },
     "metadata": {},
     "output_type": "display_data"
    },
    {
     "name": "stdout",
     "output_type": "stream",
     "text": [
      "v18.17.1\n"
     ]
    }
   ],
   "source": [
    "#need to check version nodeJ\n",
    "# here running with, probably wanting v18.17.1\n",
    "! node -v"
   ]
  },
  {
   "cell_type": "markdown",
   "id": "34d88e0c-afe7-495b-b55e-c8250eaa3218",
   "metadata": {},
   "source": [
    " use the following to fix version "
   ]
  },
  {
   "cell_type": "code",
   "execution_count": 3,
   "id": "4784c8f9",
   "metadata": {},
   "outputs": [
    {
     "data": {
      "text/html": [
       "\n",
       "            <style>\n",
       "                .geemap-dark {\n",
       "                    --jp-widgets-color: white;\n",
       "                    --jp-widgets-label-color: white;\n",
       "                    --jp-ui-font-color1: white;\n",
       "                    --jp-layout-color2: #454545;\n",
       "                    background-color: #383838;\n",
       "                }\n",
       "\n",
       "                .geemap-dark .jupyter-button {\n",
       "                    --jp-layout-color3: #383838;\n",
       "                }\n",
       "\n",
       "                .geemap-colab {\n",
       "                    background-color: var(--colab-primary-surface-color, white);\n",
       "                }\n",
       "\n",
       "                .geemap-colab .jupyter-button {\n",
       "                    --jp-layout-color3: var(--colab-primary-surface-color, white);\n",
       "                }\n",
       "            </style>\n",
       "            "
      ],
      "text/plain": [
       "<IPython.core.display.HTML object>"
      ]
     },
     "metadata": {},
     "output_type": "display_data"
    },
    {
     "ename": "SyntaxError",
     "evalue": "invalid syntax (2215031909.py, line 1)",
     "output_type": "error",
     "traceback": [
      "\u001b[0;36m  Cell \u001b[0;32mIn[3], line 1\u001b[0;36m\u001b[0m\n\u001b[0;31m    (gee) beber@fbk:~$ nvm use v18.17.1\u001b[0m\n\u001b[0m          ^\u001b[0m\n\u001b[0;31mSyntaxError\u001b[0m\u001b[0;31m:\u001b[0m invalid syntax\n"
     ]
    }
   ],
   "source": [
    "(gee) beber@fbk:~$ nvm use v18.17.1\n",
    "Now using node v18.17.1 (npm v9.6.7)\n",
    "\n",
    "\n",
    "then restart kernel jupyter"
   ]
  },
  {
   "cell_type": "markdown",
   "id": "bf83e07c",
   "metadata": {},
   "source": [
    "# coefficients and SAT re-calibration from: https://doi.org/10.3390/rs12091471\n",
    "# cite:\n",
    "Ermida, S.L., Soares, P., Mantas, V., Göttsche, F.M. and Trigo, I.F., 2020. Google earth engine open-source code for land surface temperature estimation from the landsat series. Remote Sensing, 12(9), p.1471."
   ]
  },
  {
   "cell_type": "code",
   "execution_count": 3,
   "id": "919b996b",
   "metadata": {
    "tags": []
   },
   "outputs": [
    {
     "data": {
      "text/html": [
       "\n",
       "            <style>\n",
       "                .geemap-dark {\n",
       "                    --jp-widgets-color: white;\n",
       "                    --jp-widgets-label-color: white;\n",
       "                    --jp-ui-font-color1: white;\n",
       "                    --jp-layout-color2: #454545;\n",
       "                    background-color: #383838;\n",
       "                }\n",
       "\n",
       "                .geemap-dark .jupyter-button {\n",
       "                    --jp-layout-color3: #383838;\n",
       "                }\n",
       "\n",
       "                .geemap-colab {\n",
       "                    background-color: var(--colab-primary-surface-color, white);\n",
       "                }\n",
       "\n",
       "                .geemap-colab .jupyter-button {\n",
       "                    --jp-layout-color3: var(--colab-primary-surface-color, white);\n",
       "                }\n",
       "            </style>\n",
       "            "
      ],
      "text/plain": [
       "<IPython.core.display.HTML object>"
      ]
     },
     "metadata": {},
     "output_type": "display_data"
    },
    {
     "name": "stdout",
     "output_type": "stream",
     "text": [
      "{'collection': 'function'}\n"
     ]
    }
   ],
   "source": [
    "import oeel\n",
    "\n",
    "lib = geemap.requireJS('./landsat_smw_lst/modules/Landsat_LST.js') #modules/Landsat_LST.js')\n",
    "print(lib.availability)\n",
    "\n",
    "LandsatLST = lib"
   ]
  },
  {
   "cell_type": "code",
   "execution_count": 4,
   "id": "4dc69bd2",
   "metadata": {
    "tags": []
   },
   "outputs": [
    {
     "data": {
      "text/html": [
       "\n",
       "            <style>\n",
       "                .geemap-dark {\n",
       "                    --jp-widgets-color: white;\n",
       "                    --jp-widgets-label-color: white;\n",
       "                    --jp-ui-font-color1: white;\n",
       "                    --jp-layout-color2: #454545;\n",
       "                    background-color: #383838;\n",
       "                }\n",
       "\n",
       "                .geemap-dark .jupyter-button {\n",
       "                    --jp-layout-color3: #383838;\n",
       "                }\n",
       "\n",
       "                .geemap-colab {\n",
       "                    background-color: var(--colab-primary-surface-color, white);\n",
       "                }\n",
       "\n",
       "                .geemap-colab .jupyter-button {\n",
       "                    --jp-layout-color3: var(--colab-primary-surface-color, white);\n",
       "                }\n",
       "            </style>\n",
       "            "
      ],
      "text/plain": [
       "<IPython.core.display.HTML object>"
      ]
     },
     "metadata": {},
     "output_type": "display_data"
    },
    {
     "data": {
      "application/vnd.jupyter.widget-view+json": {
       "model_id": "4a0ed1c7db9742d8800db1979378136a",
       "version_major": 2,
       "version_minor": 0
      },
      "text/plain": [
       "Map(center=[0, 0], controls=(WidgetControl(options=['position', 'transparent_bg'], widget=SearchDataGUI(childr…"
      ]
     },
     "metadata": {},
     "output_type": "display_data"
    }
   ],
   "source": [
    "# example of images acquired and processed\n",
    "# select region of interest, date range, and landsat satellite\n",
    "#\n",
    "# zaragoza\n",
    "#Box -1.209183,41.476175,15.906830,47.322069\n",
    "# geometry =ee.Geometry.Polygon(\n",
    "#         [[[-1.2, 41.9],\n",
    "#           [-1.2, 41.3],\n",
    "#           [-0.6, 41.3],\n",
    "#           [-0.6, 41.9]]], None, False)\n",
    "# Graz\n",
    "#15.030670,46.733272,15.906830,47.322069\n",
    "# geometry =ee.Geometry.Polygon(\n",
    "#         [[[15.2, 46.9],\n",
    "#           [15.2, 47.2],\n",
    "#           [15.7, 47.2],\n",
    "#           [15.7, 46.9]]], None, False)\n",
    "\n",
    "# #Leuven\n",
    "# geometry =ee.Geometry.Polygon(\n",
    "#         [[[4.677773, 50.892098],\n",
    "#           [4.677773, 50.860361],\n",
    "#           [4.729271, 50.860361],\n",
    "#           [4.729271, 50.892098]]], None, False)\n",
    "#\n",
    "#Ferrara\n",
    "geometry =ee.Geometry.Polygon(\n",
    "        [[[11.524777, 44.9044706],\n",
    "          [11.524777, 44.76288],\n",
    "          [11.6722516, 44.76288],\n",
    "          [11.6722516, 44.9044706]]], None, False)\n",
    "\n",
    "# #Trento\n",
    "# geometry = ee.Geometry.Polygon(\n",
    "#         [[[10.956465573588993, 46.178886859944434],\n",
    "#           [10.956465573588993, 45.96738643146951],\n",
    "#           [11.338240475932743, 45.96738643146951],\n",
    "#           [11.338240475932743, 46.178886859944434]]], None, False)\n",
    "\n",
    "satellite = 'L8';\n",
    "date_start = '2013-01-01'; \n",
    "date_end = '2023-12-31';\n",
    "use_ndvi = True\n",
    "\n",
    "# get landsat collection with added variables: NDVI, FVC, TPW, EM, LST\n",
    "LandsatColl = LandsatLST.collection(satellite, date_start, date_end, geometry, use_ndvi)\n",
    "\n",
    "# select a feature to plot\n",
    "exImage = LandsatColl.median()\n",
    "# select the first feature\n",
    "#exImage = LandsatColl.firtst()\n",
    "#get last\n",
    "#exImage=LandsatColl.limit(1, 'system:time_start', False).first()\n",
    "\n",
    "\n",
    "cmap1 = ['blue', 'cyan', 'green', 'yellow', 'red']\n",
    "cmap2 = ['F2F2F2','EFC2B3','ECB176','E9BD3A','E6E600','63C600','00A600']\n",
    "\n",
    "Map = geemap.Map(Draw_export=True)\n",
    "\n",
    "Map.centerObject(geometry)\n",
    "#Map.addLayer(exImage.select('TPW'),{'min':0.0, 'max':60.0, 'palette':cmap1},'TCWV')\n",
    "#Map.addLayer(exImage.select('TPWpos'),{'min':0.0, 'max':9.0, 'palette':cmap1},'TCWVpos')\n",
    "#Map.addLayer(exImage.select('FVC'),{'min':0.0, 'max':1.0, 'palette':cmap2}, 'FVC')\n",
    "#Map.addLayer(exImage.select('EM'),{'min':0.9, 'max':1.0, 'palette':cmap1}, 'Emissivity')\n",
    "#Map.addLayer(exImage.select('B10'),{'min':290, 'max':320, 'palette':cmap1}, 'TIR BT')\n",
    "Map.addLayer(exImage.select('LST'),{'min':290, 'max':320, 'palette':cmap1}, 'LST')\n",
    "Map.addLayer(exImage.multiply(0.0000275).add(-0.2),{'bands': ['SR_B4',  'SR_B3',  'SR_B2'], 'min':0, 'max':0.3}, 'RGB')\n",
    "Map.addLayer(geometry)\n",
    "\n",
    "# # \n",
    "\n",
    "Map"
   ]
  },
  {
   "cell_type": "markdown",
   "id": "6f8f650b-3c21-42ac-9a24-9dd52741e5a8",
   "metadata": {},
   "source": [
    "# create Hot Spots maps by median over extended summer months for 2013-2023"
   ]
  },
  {
   "cell_type": "code",
   "execution_count": 17,
   "id": "be33176c-a4b0-4d76-bbce-3e54a6862b41",
   "metadata": {},
   "outputs": [
    {
     "data": {
      "text/html": [
       "\n",
       "            <style>\n",
       "                .geemap-dark {\n",
       "                    --jp-widgets-color: white;\n",
       "                    --jp-widgets-label-color: white;\n",
       "                    --jp-ui-font-color1: white;\n",
       "                    --jp-layout-color2: #454545;\n",
       "                    background-color: #383838;\n",
       "                }\n",
       "\n",
       "                .geemap-dark .jupyter-button {\n",
       "                    --jp-layout-color3: #383838;\n",
       "                }\n",
       "\n",
       "                .geemap-colab {\n",
       "                    background-color: var(--colab-primary-surface-color, white);\n",
       "                }\n",
       "\n",
       "                .geemap-colab .jupyter-button {\n",
       "                    --jp-layout-color3: var(--colab-primary-surface-color, white);\n",
       "                }\n",
       "            </style>\n",
       "            "
      ],
      "text/plain": [
       "<IPython.core.display.HTML object>"
      ]
     },
     "metadata": {},
     "output_type": "display_data"
    }
   ],
   "source": [
    "# save to drive\n",
    "# check task here: https://code.earthengine.google.com/tasks\n",
    "# check your drive for images\n",
    "\n",
    "for m in range(4, 10) :\n",
    "    month_col = LandsatColl.filter(ee.Filter.calendarRange(m, m,'month'))\n",
    "    m_median = month_col.select('LST').filter(ee.Filter.bounds(geometry)).median();\n",
    "    filename = \"Hot_spots_month_\" + str(m)    # check download_ee_image VS ee_export_image\n",
    "    geemap.ee_export_image_to_drive(m_median,folder='Zaragoza_HS',  description=filename, scale=30, region=geometry)"
   ]
  },
  {
   "cell_type": "markdown",
   "id": "bf96f952-6b35-4547-9fc3-6b588d223419",
   "metadata": {},
   "source": [
    "# create LST time series maps by median over scene available for each month for each year"
   ]
  },
  {
   "cell_type": "code",
   "execution_count": 115,
   "id": "969da12f-96d5-430f-81db-6d02529982db",
   "metadata": {},
   "outputs": [
    {
     "data": {
      "text/html": [
       "\n",
       "            <style>\n",
       "                .geemap-dark {\n",
       "                    --jp-widgets-color: white;\n",
       "                    --jp-widgets-label-color: white;\n",
       "                    --jp-ui-font-color1: white;\n",
       "                    --jp-layout-color2: #454545;\n",
       "                    background-color: #383838;\n",
       "                }\n",
       "\n",
       "                .geemap-dark .jupyter-button {\n",
       "                    --jp-layout-color3: #383838;\n",
       "                }\n",
       "\n",
       "                .geemap-colab {\n",
       "                    background-color: var(--colab-primary-surface-color, white);\n",
       "                }\n",
       "\n",
       "                .geemap-colab .jupyter-button {\n",
       "                    --jp-layout-color3: var(--colab-primary-surface-color, white);\n",
       "                }\n",
       "            </style>\n",
       "            "
      ],
      "text/plain": [
       "<IPython.core.display.HTML object>"
      ]
     },
     "metadata": {},
     "output_type": "display_data"
    }
   ],
   "source": [
    "#functions\n",
    "# Function to get the images for a given year and month\n",
    "def get_monthly_collection(LandsatColl, year, month):\n",
    "    start_date = ee.Date.fromYMD(year, month, 1)\n",
    "    end_date = start_date.advance(1, 'month')\n",
    "    #\n",
    "    # Filter the Landsat 8 collection by date and apply median\n",
    "    collection = LandsatColl.filterDate(start_date, end_date).median()\n",
    "    #\n",
    "    return collection\n",
    "\n",
    "# need to manage months with no scenes\n",
    "def comprobeBandsNumber(ele):\n",
    "  new_list = ee.List([])\n",
    "  count = ee.Image(ele).bandNames().size()\n",
    "  # 16 is the number of bands in correct scene  \n",
    "  comp = ee.Algorithms.If(count.eq(16), ele, 0)\n",
    "  new_list = new_list.add(comp)\n",
    "  return new_list\n",
    "#"
   ]
  },
  {
   "cell_type": "code",
   "execution_count": 119,
   "id": "56f6a7b3-be6c-4245-98c8-b5d9b3d5602f",
   "metadata": {},
   "outputs": [
    {
     "data": {
      "text/html": [
       "\n",
       "            <style>\n",
       "                .geemap-dark {\n",
       "                    --jp-widgets-color: white;\n",
       "                    --jp-widgets-label-color: white;\n",
       "                    --jp-ui-font-color1: white;\n",
       "                    --jp-layout-color2: #454545;\n",
       "                    background-color: #383838;\n",
       "                }\n",
       "\n",
       "                .geemap-dark .jupyter-button {\n",
       "                    --jp-layout-color3: #383838;\n",
       "                }\n",
       "\n",
       "                .geemap-colab {\n",
       "                    background-color: var(--colab-primary-surface-color, white);\n",
       "                }\n",
       "\n",
       "                .geemap-colab .jupyter-button {\n",
       "                    --jp-layout-color3: var(--colab-primary-surface-color, white);\n",
       "                }\n",
       "            </style>\n",
       "            "
      ],
      "text/plain": [
       "<IPython.core.display.HTML object>"
      ]
     },
     "metadata": {},
     "output_type": "display_data"
    }
   ],
   "source": [
    "for m in range(1, 13) :\n",
    "    # Create an empty list to store monthly collections\n",
    "    monthly_collections = []\n",
    "    #\n",
    "    start_year = 2013\n",
    "    end_year = 2023\n",
    "    #\n",
    "    # Loop through each year and month\n",
    "    for year in range(start_year, end_year + 1):\n",
    "        monthly_collection = get_monthly_collection(LandsatColl,year, m)\n",
    "        monthly_collections.append(monthly_collection)\n",
    "    #branching here\n",
    "    # Merge all collections into one ImageCollection\n",
    "    #this would work if you manage images\n",
    "    sorted_monthly_collections = ee.ImageCollection.fromImages(monthly_collections) #.sort('system:time_start')\n",
    "    # save collect.select('LST').ion LST into 1 image with bands as TS\n",
    "    listOfImages = sorted_monthly_collections.toList(sorted_monthly_collections.size());\n",
    "\n",
    "    # count zeros nad their pos\n",
    "    newList = listOfImages.map(comprobeBandsNumber).flatten();\n",
    "    x= numpy.array(newList.getInfo())\n",
    "    zero_loc = numpy.where(x == 0)[0]\n",
    "\n",
    "    #removing zeroes in new list\n",
    "    newList = newList.removeAll([0]);\n",
    "    #creating new collection\n",
    "    sorted_monthly_collections_fixed = ee.ImageCollection(newList);\n",
    "    \n",
    "    LST_TS_13_23 = sorted_monthly_collections_fixed.select('LST').toBands()\n",
    "    #renamen bands\n",
    "    new_bands = ['LST_2013','LST_2014','LST_2015','LST_2016','LST_2017','LST_2018','LST_2019','LST_2020','LST_2021','LST_2022','LST_2023'];\n",
    "    #\n",
    "    #fix bands names based on scene availability\n",
    "    new_bands = [x for i, x in enumerate(new_bands) if i not in zero_loc]\n",
    "    LST_TS_13_23_fix = LST_TS_13_23.rename(new_bands)\n",
    "    #\n",
    "    filename = \"LST_2013_2023_Time_series_month_\" + str(m)    # check download_ee_image VS ee_export_image\n",
    "    geemap.ee_export_image_to_drive(LST_TS_13_23_fix,folder='Ferrara_HS',  description=filename, scale=30, region=geometry)"
   ]
  }
 ],
 "metadata": {
  "kernelspec": {
   "display_name": "Python 3 (ipykernel)",
   "language": "python",
   "name": "python3"
  },
  "language_info": {
   "codemirror_mode": {
    "name": "ipython",
    "version": 3
   },
   "file_extension": ".py",
   "mimetype": "text/x-python",
   "name": "python",
   "nbconvert_exporter": "python",
   "pygments_lexer": "ipython3",
   "version": "3.11.10"
  }
 },
 "nbformat": 4,
 "nbformat_minor": 5
}
