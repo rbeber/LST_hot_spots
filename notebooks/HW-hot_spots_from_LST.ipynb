{
 "cells": [
  {
   "cell_type": "code",
   "execution_count": 1,
   "id": "35699195",
   "metadata": {
    "tags": []
   },
   "outputs": [],
   "source": [
    "#Initilize GEE\n",
    "import os\n",
    "work_dir = os.path.expanduser('../data')\n",
    "\n",
    "\n",
    "import ee\n",
    "#geemap is just for ViZ\n",
    "import geemap\n",
    "\n",
    "geemap.ee_initialize()"
   ]
  },
  {
   "cell_type": "code",
   "execution_count": 2,
   "id": "e89126ea",
   "metadata": {
    "tags": []
   },
   "outputs": [
    {
     "data": {
      "text/html": [
       "\n",
       "            <style>\n",
       "                .geemap-dark {\n",
       "                    --jp-widgets-color: white;\n",
       "                    --jp-widgets-label-color: white;\n",
       "                    --jp-ui-font-color1: white;\n",
       "                    --jp-layout-color2: #454545;\n",
       "                    background-color: #383838;\n",
       "                }\n",
       "\n",
       "                .geemap-dark .jupyter-button {\n",
       "                    --jp-layout-color3: #383838;\n",
       "                }\n",
       "\n",
       "                .geemap-colab {\n",
       "                    background-color: var(--colab-primary-surface-color, white);\n",
       "                }\n",
       "\n",
       "                .geemap-colab .jupyter-button {\n",
       "                    --jp-layout-color3: var(--colab-primary-surface-color, white);\n",
       "                }\n",
       "            </style>\n",
       "            "
      ],
      "text/plain": [
       "<IPython.core.display.HTML object>"
      ]
     },
     "metadata": {},
     "output_type": "display_data"
    },
    {
     "name": "stdout",
     "output_type": "stream",
     "text": [
      "v18.17.1\n"
     ]
    }
   ],
   "source": [
    "#need to check version nodeJ\n",
    "# here running with, probably wanting v18.17.1\n",
    "! node -v"
   ]
  },
  {
   "cell_type": "markdown",
   "id": "34d88e0c-afe7-495b-b55e-c8250eaa3218",
   "metadata": {},
   "source": [
    " use the following to fix version "
   ]
  },
  {
   "cell_type": "code",
   "execution_count": 3,
   "id": "4784c8f9",
   "metadata": {},
   "outputs": [
    {
     "data": {
      "text/html": [
       "\n",
       "            <style>\n",
       "                .geemap-dark {\n",
       "                    --jp-widgets-color: white;\n",
       "                    --jp-widgets-label-color: white;\n",
       "                    --jp-ui-font-color1: white;\n",
       "                    --jp-layout-color2: #454545;\n",
       "                    background-color: #383838;\n",
       "                }\n",
       "\n",
       "                .geemap-dark .jupyter-button {\n",
       "                    --jp-layout-color3: #383838;\n",
       "                }\n",
       "\n",
       "                .geemap-colab {\n",
       "                    background-color: var(--colab-primary-surface-color, white);\n",
       "                }\n",
       "\n",
       "                .geemap-colab .jupyter-button {\n",
       "                    --jp-layout-color3: var(--colab-primary-surface-color, white);\n",
       "                }\n",
       "            </style>\n",
       "            "
      ],
      "text/plain": [
       "<IPython.core.display.HTML object>"
      ]
     },
     "metadata": {},
     "output_type": "display_data"
    },
    {
     "ename": "SyntaxError",
     "evalue": "invalid syntax (2215031909.py, line 1)",
     "output_type": "error",
     "traceback": [
      "\u001b[0;36m  Cell \u001b[0;32mIn[3], line 1\u001b[0;36m\u001b[0m\n\u001b[0;31m    (gee) beber@fbk:~$ nvm use v18.17.1\u001b[0m\n\u001b[0m          ^\u001b[0m\n\u001b[0;31mSyntaxError\u001b[0m\u001b[0;31m:\u001b[0m invalid syntax\n"
     ]
    }
   ],
   "source": [
    "(gee) beber@fbk:~$ nvm use v18.17.1\n",
    "Now using node v18.17.1 (npm v9.6.7)\n",
    "\n",
    "\n",
    "then restart kernel jupyter"
   ]
  },
  {
   "cell_type": "markdown",
   "id": "bf83e07c",
   "metadata": {},
   "source": [
    "# coefficients and SAT re-calibration from: https://doi.org/10.3390/rs12091471\n",
    "# cite:\n",
    "Ermida, S.L., Soares, P., Mantas, V., Göttsche, F.M. and Trigo, I.F., 2020. Google earth engine open-source code for land surface temperature estimation from the landsat series. Remote Sensing, 12(9), p.1471."
   ]
  },
  {
   "cell_type": "code",
   "execution_count": 4,
   "id": "919b996b",
   "metadata": {
    "tags": []
   },
   "outputs": [
    {
     "data": {
      "text/html": [
       "\n",
       "            <style>\n",
       "                .geemap-dark {\n",
       "                    --jp-widgets-color: white;\n",
       "                    --jp-widgets-label-color: white;\n",
       "                    --jp-ui-font-color1: white;\n",
       "                    --jp-layout-color2: #454545;\n",
       "                    background-color: #383838;\n",
       "                }\n",
       "\n",
       "                .geemap-dark .jupyter-button {\n",
       "                    --jp-layout-color3: #383838;\n",
       "                }\n",
       "\n",
       "                .geemap-colab {\n",
       "                    background-color: var(--colab-primary-surface-color, white);\n",
       "                }\n",
       "\n",
       "                .geemap-colab .jupyter-button {\n",
       "                    --jp-layout-color3: var(--colab-primary-surface-color, white);\n",
       "                }\n",
       "            </style>\n",
       "            "
      ],
      "text/plain": [
       "<IPython.core.display.HTML object>"
      ]
     },
     "metadata": {},
     "output_type": "display_data"
    },
    {
     "name": "stdout",
     "output_type": "stream",
     "text": [
      "{'collection': 'function'}\n"
     ]
    }
   ],
   "source": [
    "import oeel\n",
    "\n",
    "lib = geemap.requireJS('./landsat_smw_lst/modules/Landsat_LST.js') #modules/Landsat_LST.js')\n",
    "print(lib.availability)\n",
    "\n",
    "LandsatLST = lib"
   ]
  },
  {
   "cell_type": "code",
   "execution_count": 5,
   "id": "4dc69bd2",
   "metadata": {
    "tags": []
   },
   "outputs": [
    {
     "data": {
      "text/html": [
       "\n",
       "            <style>\n",
       "                .geemap-dark {\n",
       "                    --jp-widgets-color: white;\n",
       "                    --jp-widgets-label-color: white;\n",
       "                    --jp-ui-font-color1: white;\n",
       "                    --jp-layout-color2: #454545;\n",
       "                    background-color: #383838;\n",
       "                }\n",
       "\n",
       "                .geemap-dark .jupyter-button {\n",
       "                    --jp-layout-color3: #383838;\n",
       "                }\n",
       "\n",
       "                .geemap-colab {\n",
       "                    background-color: var(--colab-primary-surface-color, white);\n",
       "                }\n",
       "\n",
       "                .geemap-colab .jupyter-button {\n",
       "                    --jp-layout-color3: var(--colab-primary-surface-color, white);\n",
       "                }\n",
       "            </style>\n",
       "            "
      ],
      "text/plain": [
       "<IPython.core.display.HTML object>"
      ]
     },
     "metadata": {},
     "output_type": "display_data"
    },
    {
     "data": {
      "application/vnd.jupyter.widget-view+json": {
       "model_id": "1491ec38a4a444bd9f7d6203e19d499c",
       "version_major": 2,
       "version_minor": 0
      },
      "text/plain": [
       "Map(center=[0, 0], controls=(WidgetControl(options=['position', 'transparent_bg'], widget=SearchDataGUI(childr…"
      ]
     },
     "metadata": {},
     "output_type": "display_data"
    }
   ],
   "source": [
    "# example of images acquired and processed\n",
    "# select region of interest, date range, and landsat satellite\n",
    "#Leuven\n",
    "geometry =ee.Geometry.Polygon(\n",
    "        [[[4.677773, 50.892098],\n",
    "          [4.677773, 50.860361],\n",
    "          [4.729271, 50.860361],\n",
    "          [4.729271, 50.892098]]], None, False)\n",
    "#\n",
    "#Ferrara\n",
    "# geometry =ee.Geometry.Polygon(\n",
    "#         [[[11.524777, 44.9044706],\n",
    "#           [11.524777, 44.76288],\n",
    "#           [11.6722516, 44.76288],\n",
    "#           [11.6722516, 44.9044706]]], None, False)\n",
    "#\n",
    "# #Trento\n",
    "# geometry = ee.Geometry.Polygon(\n",
    "#         [[[10.956465573588993, 46.178886859944434],\n",
    "#           [10.956465573588993, 45.96738643146951],\n",
    "#           [11.338240475932743, 45.96738643146951],\n",
    "#           [11.338240475932743, 46.178886859944434]]], None, False)\n",
    "\n",
    "satellite = 'L8';\n",
    "date_start = '2013-01-01'; \n",
    "date_end = '2023-12-31';\n",
    "use_ndvi = True\n",
    "\n",
    "# get landsat collection with added variables: NDVI, FVC, TPW, EM, LST\n",
    "LandsatColl = LandsatLST.collection(satellite, date_start, date_end, geometry, use_ndvi)\n",
    "\n",
    "# select a feature to plot\n",
    "exImage = LandsatColl.median()\n",
    "# select the first feature\n",
    "#exImage = LandsatColl.firtst()\n",
    "#get last\n",
    "#exImage=LandsatColl.limit(1, 'system:time_start', False).first()\n",
    "\n",
    "\n",
    "cmap1 = ['blue', 'cyan', 'green', 'yellow', 'red']\n",
    "cmap2 = ['F2F2F2','EFC2B3','ECB176','E9BD3A','E6E600','63C600','00A600']\n",
    "\n",
    "Map = geemap.Map(Draw_export=True)\n",
    "\n",
    "Map.centerObject(geometry)\n",
    "#Map.addLayer(exImage.select('TPW'),{'min':0.0, 'max':60.0, 'palette':cmap1},'TCWV')\n",
    "#Map.addLayer(exImage.select('TPWpos'),{'min':0.0, 'max':9.0, 'palette':cmap1},'TCWVpos')\n",
    "#Map.addLayer(exImage.select('FVC'),{'min':0.0, 'max':1.0, 'palette':cmap2}, 'FVC')\n",
    "#Map.addLayer(exImage.select('EM'),{'min':0.9, 'max':1.0, 'palette':cmap1}, 'Emissivity')\n",
    "#Map.addLayer(exImage.select('B10'),{'min':290, 'max':320, 'palette':cmap1}, 'TIR BT')\n",
    "Map.addLayer(exImage.select('LST'),{'min':290, 'max':320, 'palette':cmap1}, 'LST')\n",
    "Map.addLayer(exImage.multiply(0.0000275).add(-0.2),{'bands': ['SR_B4',  'SR_B3',  'SR_B2'], 'min':0, 'max':0.3}, 'RGB')\n",
    "\n",
    "\n",
    "# # \n",
    "\n",
    "Map"
   ]
  },
  {
   "cell_type": "code",
   "execution_count": 6,
   "id": "31016a1c-5876-4e81-b6ae-515e705d0fae",
   "metadata": {},
   "outputs": [
    {
     "data": {
      "text/html": [
       "\n",
       "            <style>\n",
       "                .geemap-dark {\n",
       "                    --jp-widgets-color: white;\n",
       "                    --jp-widgets-label-color: white;\n",
       "                    --jp-ui-font-color1: white;\n",
       "                    --jp-layout-color2: #454545;\n",
       "                    background-color: #383838;\n",
       "                }\n",
       "\n",
       "                .geemap-dark .jupyter-button {\n",
       "                    --jp-layout-color3: #383838;\n",
       "                }\n",
       "\n",
       "                .geemap-colab {\n",
       "                    background-color: var(--colab-primary-surface-color, white);\n",
       "                }\n",
       "\n",
       "                .geemap-colab .jupyter-button {\n",
       "                    --jp-layout-color3: var(--colab-primary-surface-color, white);\n",
       "                }\n",
       "            </style>\n",
       "            "
      ],
      "text/plain": [
       "<IPython.core.display.HTML object>"
      ]
     },
     "metadata": {},
     "output_type": "display_data"
    },
    {
     "name": "stdout",
     "output_type": "stream",
     "text": [
      "Generating URL ...\n",
      "Downloading data from https://earthengine.googleapis.com/v1/projects/earthengine-legacy/thumbnails/6005a1f04d4ca7362c22f6d40b54a1c3-e299f326d4003dec0ad5a6328277219e:getPixels\n",
      "Please wait ...\n",
      "Data downloaded to /home/beber/Documents/gee/LST_hot_spots/data/Hot_spots_month_4_.tif\n",
      "Generating URL ...\n",
      "Downloading data from https://earthengine.googleapis.com/v1/projects/earthengine-legacy/thumbnails/1a7400ae57b920a7f19c6eb8e0ceacf7-bb404cb31540dbef3c82a5d00589d12f:getPixels\n",
      "Please wait ...\n",
      "Data downloaded to /home/beber/Documents/gee/LST_hot_spots/data/Hot_spots_month_5_.tif\n",
      "Generating URL ...\n",
      "Downloading data from https://earthengine.googleapis.com/v1/projects/earthengine-legacy/thumbnails/9583bca7f71dd039edfe189d05d5239a-ff6327b46ce9da7f32dd249da77a1fd9:getPixels\n",
      "Please wait ...\n",
      "Data downloaded to /home/beber/Documents/gee/LST_hot_spots/data/Hot_spots_month_6_.tif\n",
      "Generating URL ...\n",
      "Downloading data from https://earthengine.googleapis.com/v1/projects/earthengine-legacy/thumbnails/b1b69670940e4ea2e2f4bbf1b43976c1-845c36ec8641fd909ff74b2f21827a77:getPixels\n",
      "Please wait ...\n",
      "Data downloaded to /home/beber/Documents/gee/LST_hot_spots/data/Hot_spots_month_7_.tif\n",
      "Generating URL ...\n",
      "Downloading data from https://earthengine.googleapis.com/v1/projects/earthengine-legacy/thumbnails/2e446f7a564e9f787949229b6582c412-44ace478abed1944db3a1ddeb56e6f35:getPixels\n",
      "Please wait ...\n",
      "Data downloaded to /home/beber/Documents/gee/LST_hot_spots/data/Hot_spots_month_8_.tif\n",
      "Generating URL ...\n",
      "Downloading data from https://earthengine.googleapis.com/v1/projects/earthengine-legacy/thumbnails/33542fe3d2895952972e7fb5bed82fcf-65cd2559dbff23e1687899e35c57c057:getPixels\n",
      "Please wait ...\n",
      "Data downloaded to /home/beber/Documents/gee/LST_hot_spots/data/Hot_spots_month_9_.tif\n"
     ]
    }
   ],
   "source": [
    "# loop over months of interest >>> Extended summer>> April to September\n",
    "\n",
    "for m in range(4, 10) :\n",
    "    month_col = LandsatColl.filter(ee.Filter.calendarRange(m, m,'month'))\n",
    "    m_median = month_col.select('LST').filter(ee.Filter.bounds(geometry)).median();\n",
    "    filename = os.path.join(work_dir, \"Hot_spots_month_\" + str(m) + \"_.tif\")\n",
    "    geemap.ee_export_image(m_median,filename=filename, scale=30, region=geometry, file_per_band=False)"
   ]
  }
 ],
 "metadata": {
  "kernelspec": {
   "display_name": "Python 3 (ipykernel)",
   "language": "python",
   "name": "python3"
  },
  "language_info": {
   "codemirror_mode": {
    "name": "ipython",
    "version": 3
   },
   "file_extension": ".py",
   "mimetype": "text/x-python",
   "name": "python",
   "nbconvert_exporter": "python",
   "pygments_lexer": "ipython3",
   "version": "3.11.10"
  }
 },
 "nbformat": 4,
 "nbformat_minor": 5
}
